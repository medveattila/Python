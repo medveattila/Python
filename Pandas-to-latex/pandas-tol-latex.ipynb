import pandas as pd

def pandas_to_latex(filepath, dataframe, caption = "Figure 1", label = 'tab:my-table'):

    with open(filepath, 'w') as f:

        f.write('\\begin{table}[h]\n')
        f.write('\centering\n')
        f.write('\\begin{tabular}{' + '|' + len(dataframe.columns.values)*'c|' + '}\n')
        f.write('\hline\n')

        for i in range(len(dataframe.columns.values)):

            if i < (len(dataframe.columns.values)-1):
            
                f.write(dataframe.columns.values[i])
                f.write(' & ')

            else:

                f.write(dataframe.columns.values[i])
                f.write(' \\\ \hline\hline')
                f.write('\n')

        for i in dataframe.values:

            for j in range(len(i)):

                if j < len(i)-1:

                    f.write(str(i[j]))
                    f.write(' & ')

                else:

                    f.write(str(i[j]))
                    f.write(' \\\ \hline')
                    f.write('\n')

        f.write('\\end{tabular}\n')
        f.write('\\caption{' + caption + '}\n')
        f.write('\\label{' + label + '}\n')
        f.write('\\end{table}\n')

        f.close
