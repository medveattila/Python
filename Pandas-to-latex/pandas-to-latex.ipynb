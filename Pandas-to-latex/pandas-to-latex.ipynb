{
 "cells": [
  {
   "cell_type": "code",
   "execution_count": null,
   "metadata": {},
   "outputs": [],
   "source": [
    "import pandas as pd\n",
    "\n",
    "\n",
    "def pandas_to_latex(filepath, dataframe, caption=\"Figure 1\", label='tab:my-table'):\n",
    "\n",
    "    with open(filepath, 'w') as f:\n",
    "\n",
    "        f.write('\\\\begin{table}[h]\\n')\n",
    "        f.write('\\centering\\n')\n",
    "        f.write('\\\\begin{tabular}{' + '|' +\n",
    "                len(dataframe.columns.values)*'c|' + '}\\n')\n",
    "        f.write('\\hline\\n')\n",
    "\n",
    "        for i in range(len(dataframe.columns.values)):\n",
    "\n",
    "            if i < (len(dataframe.columns.values)-1):\n",
    "\n",
    "                f.write(dataframe.columns.values[i])\n",
    "                f.write(' & ')\n",
    "\n",
    "            else:\n",
    "\n",
    "                f.write(dataframe.columns.values[i])\n",
    "                f.write(' \\\\\\ \\hline\\hline')\n",
    "                f.write('\\n')\n",
    "\n",
    "        for i in dataframe.values:\n",
    "\n",
    "            for j in range(len(i)):\n",
    "\n",
    "                if j < len(i)-1:\n",
    "\n",
    "                    f.write(str(i[j]))\n",
    "                    f.write(' & ')\n",
    "\n",
    "                else:\n",
    "\n",
    "                    f.write(str(i[j]))\n",
    "                    f.write(' \\\\\\ \\hline')\n",
    "                    f.write('\\n')\n",
    "\n",
    "        f.write('\\\\end{tabular}\\n')\n",
    "        f.write('\\\\caption{' + caption + '}\\n')\n",
    "        f.write('\\\\label{' + label + '}\\n')\n",
    "        f.write('\\\\end{table}\\n')\n",
    "\n",
    "        f.close\n"
   ]
  }
 ],
 "metadata": {
  "language_info": {
   "name": "python"
  },
  "orig_nbformat": 4
 },
 "nbformat": 4,
 "nbformat_minor": 2
}
